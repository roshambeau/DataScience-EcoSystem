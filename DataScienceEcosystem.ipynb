{
 "cells": [
  {
   "cell_type": "markdown",
   "id": "671a0ee9-9565-42cf-9f8a-24d922aa2b70",
   "metadata": {
    "tags": []
   },
   "source": [
    "# Data Science Tools and Ecosystem"
   ]
  },
  {
   "cell_type": "markdown",
   "id": "d568de86-e388-4826-a485-69d348da40c9",
   "metadata": {},
   "source": [
    "## Author\n",
    "Greg Robbins"
   ]
  },
  {
   "cell_type": "markdown",
   "id": "ba4a92a0-ead6-4970-b377-e48c5a7c4ecb",
   "metadata": {},
   "source": [
    "### Introduction\n",
    "\n",
    "The aim of this notebook is to describe the data science ecosystem, and to highlight a subset of important tools used in data processing and analysis.  "
   ]
  },
  {
   "cell_type": "markdown",
   "id": "2b552e13-4269-4ec6-959e-faa719502c7f",
   "metadata": {},
   "source": [
    "### **Objectives**\n",
    "\n",
    "* Become aware of popular data science languages\n",
    "* Learn names of common libraries used in data science\n",
    "* Cite tools used by data scientists\n",
    "* Demonstrate basic math functions in Python\n",
    "\n",
    "\n"
   ]
  },
  {
   "cell_type": "markdown",
   "id": "0ac1dfd5-073b-4c64-9703-6222d7e1b11d",
   "metadata": {},
   "source": [
    "### Popular Data Science Languages\n",
    "\n",
    "1. Python\n",
    "2. R\n",
    "3. Julia\n",
    "4. SQL\n",
    "\n",
    "### Other Languages that can also be used depending on data type\n",
    "\n",
    "1. JAVA\n",
    "2. Scala\n",
    "3. C++"
   ]
  },
  {
   "cell_type": "markdown",
   "id": "8bf5e9b6-06fd-43b4-ac62-97126a0d73ef",
   "metadata": {},
   "source": [
    "### Below is an ordered list of commonly used libraries by Data Scientists\n",
    "\n",
    "1. Pandas\n",
    "2. Matplotlib\n",
    "3. NumPy\n",
    "4. ggplot2\n",
    "5. TensorFlow"
   ]
  },
  {
   "cell_type": "markdown",
   "id": "7916a8ee-f74c-4a8e-ab99-933888c01cc3",
   "metadata": {
    "tags": []
   },
   "source": [
    "|Data Science Tools|\n",
    "|-------------------|\n",
    "|Database|\n",
    "|Script|\n",
    "|Graphs|"
   ]
  },
  {
   "cell_type": "markdown",
   "id": "1ce22885-7d6f-4ce7-96d1-b8a1095f37c9",
   "metadata": {},
   "source": [
    "### Arithmetic Expressions in Python\n",
    "\n",
    "Below are a few examples of how to utilize math functions in Python"
   ]
  },
  {
   "cell_type": "code",
   "execution_count": 6,
   "id": "9426d86d-9968-40e3-9eb0-df3083bcd153",
   "metadata": {
    "tags": []
   },
   "outputs": [
    {
     "data": {
      "text/plain": [
       "17"
      ]
     },
     "execution_count": 6,
     "metadata": {},
     "output_type": "execute_result"
    }
   ],
   "source": [
    "#in this code we will be multiplying the integer 3 by a factor of 4 and then adding the integer 5.\n",
    "# if this code is executed properly, then we should see an output of 17\n",
    "\n",
    "(3*4)+5"
   ]
  },
  {
   "cell_type": "code",
   "execution_count": 7,
   "id": "679b14f9-3e0c-471d-857f-f91816d2fbac",
   "metadata": {
    "tags": []
   },
   "outputs": [
    {
     "data": {
      "text/plain": [
       "3.3333333333333335"
      ]
     },
     "execution_count": 7,
     "metadata": {},
     "output_type": "execute_result"
    }
   ],
   "source": [
    "#in this code cell we will write an expression taht converts 200 mins to hours by dividing by 60.\n",
    "200/60"
   ]
  },
  {
   "cell_type": "code",
   "execution_count": null,
   "id": "2db8f375-f17f-4326-911d-6d9ec27a99c3",
   "metadata": {},
   "outputs": [],
   "source": []
  },
  {
   "cell_type": "code",
   "execution_count": null,
   "id": "ceb8516f-5ec6-4327-b7a4-66a802aa9721",
   "metadata": {},
   "outputs": [],
   "source": []
  },
  {
   "cell_type": "code",
   "execution_count": null,
   "id": "ec0dc38c-4002-442c-9458-5bb652449659",
   "metadata": {},
   "outputs": [],
   "source": []
  }
 ],
 "metadata": {
  "kernelspec": {
   "display_name": "Python 3 (ipykernel)",
   "language": "python",
   "name": "python3"
  },
  "language_info": {
   "codemirror_mode": {
    "name": "ipython",
    "version": 3
   },
   "file_extension": ".py",
   "mimetype": "text/x-python",
   "name": "python",
   "nbconvert_exporter": "python",
   "pygments_lexer": "ipython3",
   "version": "3.11.6"
  }
 },
 "nbformat": 4,
 "nbformat_minor": 5
}
